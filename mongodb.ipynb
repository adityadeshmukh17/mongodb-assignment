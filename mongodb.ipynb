{
 "cells": [
  {
   "cell_type": "code",
   "execution_count": null,
   "id": "0b481a1f-6d14-4a8f-bf53-c9ffd38a1a15",
   "metadata": {},
   "outputs": [],
   "source": [
    "Q3. Write a code to connect MongoDB to Python. Also, create a database and a collection in MongoDB. and Using the database and the collection created in question number 3, write a code to insert one record,\n",
    "and insert many records. Use the find() and find_one() methods to print the inserted record."
   ]
  },
  {
   "cell_type": "code",
   "execution_count": null,
   "id": "16a6a059-da08-4b85-962a-94be0b7ab467",
   "metadata": {},
   "outputs": [],
   "source": [
    "import pymongo\n",
    "client=pymongo.MongoClient(\"mongodb://localhost:27017\")\n",
    "print(client.test)\n",
    "db=client[\"bob\"]\n",
    "coll=db['alice']\n",
    "data={\"mail_id\" : \"sudh@gmail.com\",\n",
    "        \"phone_number \" : 2323424324,\n",
    "        \"addr\" : \"bangalore\"\n",
    "}\n",
    "data1=[\n",
    "    { \"name\": \"Amy\", \"address\": \"Apple st 652\" },\n",
    "  { \"name\": \"Hannah\", \"address\": \"Mountain 21\" },\n",
    "  { \"name\": \"Michael\", \"address\": \"Valley 345\" },\n",
    "  { \"name\": \"Sandy\", \"address\": \"Ocean blvd 2\" },\n",
    "  { \"name\": \"Betty\", \"address\": \"Green Grass 1\" },\n",
    "  { \"name\": \"Richard\", \"address\": \"Sky st 331\" },\n",
    "  { \"name\": \"Susan\", \"address\": \"One way 98\" },\n",
    "  { \"name\": \"Vicky\", \"address\": \"Yellow Garden 2\" },\n",
    "  { \"name\": \"Ben\", \"address\": \"Park Lane 38\" },\n",
    "  { \"name\": \"William\", \"address\": \"Central st 954\" },\n",
    "  { \"name\": \"Chuck\", \"address\": \"Main Road 989\" },\n",
    "  { \"name\": \"Viola\", \"address\": \"Sideway 1633\" }\n",
    "]\n",
    "coll.insert_one(data)\n",
    "coll.insert_many(data1)\n",
    "print(coll.find_one())\n",
    "for j in coll.find():\n",
    "    print(j)"
   ]
  },
  {
   "cell_type": "code",
   "execution_count": null,
   "id": "e1b07eb1-783d-405a-8e86-ad33cab57d75",
   "metadata": {},
   "outputs": [],
   "source": [
    "Q6. Explain the sort() method. Give an example to demonstrate sorting in MongoDB."
   ]
  },
  {
   "cell_type": "code",
   "execution_count": null,
   "id": "000b56b1-c6c7-4979-8693-a75766809009",
   "metadata": {},
   "outputs": [],
   "source": [
    "ata3=[\n",
    "    {'a':23},\n",
    "    {'a':45},\n",
    "    {'a':1\n",
    "}]\n",
    "coll.insert_many(data3)\n",
    "s=coll.find().sort('a',1)\n",
    "for j in s:\n",
    "    print(j)"
   ]
  },
  {
   "cell_type": "code",
   "execution_count": null,
   "id": "277052fc-8c9e-4dd6-8636-29eef14fef34",
   "metadata": {},
   "outputs": [],
   "source": [
    "The sort() method in MongoDB is used to order the results of a query by one or more fields in either ascending (1) or descending (-1) order. Sorting is an important operation when you want to present data in a specific sequence, such as alphabetical order, numerical order, or by date."
   ]
  },
  {
   "cell_type": "code",
   "execution_count": null,
   "id": "2cad6323-4268-4f26-aa06-6c25f929d484",
   "metadata": {},
   "outputs": [],
   "source": [
    "Q7. Explain why delete_one(), delete_many(), and drop() is used."
   ]
  },
  {
   "cell_type": "code",
   "execution_count": null,
   "id": "f79e3313-37d5-4af6-a13b-6f7ea4324e9c",
   "metadata": {},
   "outputs": [],
   "source": [
    "delete one\n",
    "coll.delete_one({'name':'Chuck'})\n",
    "for j in coll.find():\n",
    "    print(j)\n",
    "\n",
    "delete many\n",
    "coll.delete_many({\"a\":{'$lt':45}})\n",
    "for j in coll.find():\n",
    "    print(j)\n",
    "\n",
    "drop()\n",
    "coll1.drop()\n",
    "for j in coll1.find():\n",
    "    print(j)"
   ]
  },
  {
   "cell_type": "code",
   "execution_count": null,
   "id": "7726bca2-e34d-45fc-811a-45571a5048d5",
   "metadata": {},
   "outputs": [],
   "source": [
    "Use delete_one() when you want to remove one specific document from a collection.\n",
    "Use delete_many() when you want to remove all documents that match a specific condition.\n",
    "Use drop() when you want to remove all documents in a collection and the collection itself."
   ]
  },
  {
   "cell_type": "code",
   "execution_count": null,
   "id": "458c9bdc-4c7b-4916-9afb-7af62ebaa0e1",
   "metadata": {},
   "outputs": [],
   "source": [
    "Q5. Explain how you can use the find() method to query the MongoDB database. Write a simple code to\n",
    "demonstrate this."
   ]
  },
  {
   "cell_type": "code",
   "execution_count": null,
   "id": "98fc3ec9-ea51-43c2-9cc7-a9f6a8ede448",
   "metadata": {},
   "outputs": [],
   "source": [
    "for j in coll.find({'name':\"Ben\"}):\n",
    "    print(j)"
   ]
  },
  {
   "cell_type": "code",
   "execution_count": null,
   "id": "148bcfa8-285d-4a7f-bd72-01a3f0d7a049",
   "metadata": {},
   "outputs": [],
   "source": [
    "Q1. What is MongoDB? Explain non-relational databases in short. In which scenarios it is preferred to use\n",
    "MongoDB over SQL databases?\n",
    "Q2. State and Explain the features of MongoDB."
   ]
  },
  {
   "cell_type": "code",
   "execution_count": null,
   "id": "36075cb5-13bc-4696-84ab-8edc14c8b16d",
   "metadata": {},
   "outputs": [],
   "source": [
    "MongoDB is a popular non-relational (NoSQL) database that stores data in flexible, JSON-like documents. Unlike traditional SQL databases, which store data in tables with rows and columns, MongoDB uses a document-oriented approach, allowing for more flexible and dynamic data models.\n",
    "\n",
    "Non-relational Databases:\n",
    "\n",
    "Non-relational databases, also known as NoSQL databases, do not use the traditional table-based structure. Instead, they use various data models like documents, key-value pairs, wide-columns, and graphs. They are designed to handle unstructured or semi-structured data, providing flexibility, scalability, and high performance.\n",
    "\n",
    "Scenarios to Prefer MongoDB Over SQL Databases:\n",
    "\n",
    "Flexible Schema Requirements:\n",
    "\n",
    "When your data model needs to evolve quickly or frequently.\n",
    "When each record might have a different structure (fields may vary from document to document).\n",
    "Large-scale Data and High Traffic:\n",
    "\n",
    "When you need to handle a large amount of unstructured or semi-structured data.\n",
    "When you expect high read and write throughput, and need to scale horizontally across many servers.\n",
    "Real-time Analytics and Big Data:\n",
    "\n",
    "When you require real-time analytics on large volumes of data.\n",
    "When working with big data and require efficient storage and retrieval mechanisms.\n",
    "Geospatial Data and Internet of Things (IoT):\n",
    "\n",
    "When working with location-based data, IoT devices, and other applications requiring fast and flexible data processing.\n",
    "Q2. State and Explain the Features of MongoDB\n",
    "Features of MongoDB:\n",
    "\n",
    "Document-Oriented Storage:\n",
    "\n",
    "Explanation: MongoDB stores data in flexible, JSON-like documents, making it easy to store complex and nested data structures.\n",
    "Example: A single document can have fields for name, age, address, and a list of phone numbers, all in one record.\n",
    "Flexible Schema:\n",
    "\n",
    "Explanation: You don't need to define a fixed schema for documents. Each document can have a different structure.\n",
    "Example: One document can have a field for \"email\" while another document in the same collection may not.\n",
    "Scalability:\n",
    "\n",
    "Explanation: MongoDB supports horizontal scaling through sharding, distributing data across multiple servers.\n",
    "Example: When data grows, you can add more servers to handle the increased load without downtime.\n",
    "Indexing:\n",
    "\n",
    "Explanation: MongoDB supports various types of indexes to improve the performance of queries.\n",
    "Example: You can create an index on the \"name\" field to quickly search for documents by name.\n",
    "Aggregation Framework:\n",
    "\n",
    "Explanation: MongoDB provides powerful tools to perform data aggregation, transformation, and analysis.\n",
    "Example: You can group, filter, and sort data to produce summary reports directly from the database.\n",
    "Replication:\n",
    "\n",
    "Explanation: MongoDB supports replication through replica sets, ensuring high availability and data redundancy.\n",
    "Example: If one server fails, another server in the replica set can take over without data loss.\n",
    "Geospatial Support:\n",
    "\n",
    "Explanation: MongoDB includes support for geospatial indexes and queries, making it suitable for location-based applications.\n",
    "Example: You can store and query data for geographical coordinates, finding nearby locations.\n",
    "Rich Query Language:\n",
    "\n",
    "Explanation: MongoDB offers a powerful query language that supports CRUD (Create, Read, Update, Delete) operations, and more.\n",
    "Example: You can perform complex queries, including filtering, sorting, and projections, to retrieve specific data.\n",
    "High Performance:\n",
    "\n",
    "Explanation: MongoDB is designed for high performance, with efficient data access and storage mechanisms.\n",
    "Example: It can handle a large number of read and write operations per second, making it suitable for high-traffic applications.\n",
    "Strong Community and Ecosystem:\n",
    "\n",
    "Explanation: MongoDB has a large and active community, along with a rich ecosystem of tools and libraries.\n",
    "Example: There are many resources, tutorials, and third-party tools available to support development and deployment.\n",
    "These features make MongoDB a versatile and powerful database solution for a wide range of applications, especially those requiring flexibility, scalability, and high performance."
   ]
  },
  {
   "cell_type": "code",
   "execution_count": null,
   "id": "810dc5c7-502a-49f2-b53d-7af158f42e78",
   "metadata": {},
   "outputs": [],
   "source": []
  }
 ],
 "metadata": {
  "kernelspec": {
   "display_name": "Python 3 (ipykernel)",
   "language": "python",
   "name": "python3"
  },
  "language_info": {
   "codemirror_mode": {
    "name": "ipython",
    "version": 3
   },
   "file_extension": ".py",
   "mimetype": "text/x-python",
   "name": "python",
   "nbconvert_exporter": "python",
   "pygments_lexer": "ipython3",
   "version": "3.10.8"
  }
 },
 "nbformat": 4,
 "nbformat_minor": 5
}
